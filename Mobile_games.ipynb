{
 "cells": [
  {
   "cell_type": "markdown",
   "metadata": {},
   "source": [
    "# Датасет от компании разработчика мобильных игр. "
   ]
  },
  {
   "cell_type": "code",
   "execution_count": 1,
   "metadata": {},
   "outputs": [],
   "source": [
    "import pandas as pd\n",
    "import seaborn as sns\n",
    "from operator import attrgetter\n",
    "\n",
    "import matplotlib.pyplot as plt\n",
    "from datetime import datetime\n",
    "\n",
    "import numpy as np"
   ]
  },
  {
   "cell_type": "code",
   "execution_count": 2,
   "metadata": {},
   "outputs": [],
   "source": [
    "file_1 = '/mnt/HC_Volume_18315164/home-jupyter/jupyter-m-podmarev/shared/problem1-reg_data.csv'"
   ]
  },
  {
   "cell_type": "code",
   "execution_count": 3,
   "metadata": {},
   "outputs": [],
   "source": [
    "file_2 = '/mnt/HC_Volume_18315164/home-jupyter/jupyter-m-podmarev/shared/problem1-auth_data.csv'"
   ]
  },
  {
   "cell_type": "code",
   "execution_count": 4,
   "metadata": {},
   "outputs": [],
   "source": [
    "# данные о времени регистрации\n",
    "reg = pd.read_csv(file_1, sep = ';')"
   ]
  },
  {
   "cell_type": "code",
   "execution_count": 5,
   "metadata": {},
   "outputs": [],
   "source": [
    "# данные о времени захода пользователей в игру\n",
    "auth = pd.read_csv(file_2, sep = ';')"
   ]
  },
  {
   "cell_type": "markdown",
   "metadata": {},
   "source": [
    "<h3>Данные о времени регистрации</h3>"
   ]
  },
  {
   "cell_type": "code",
   "execution_count": 6,
   "metadata": {},
   "outputs": [
    {
     "data": {
      "text/html": [
       "<div>\n",
       "<style scoped>\n",
       "    .dataframe tbody tr th:only-of-type {\n",
       "        vertical-align: middle;\n",
       "    }\n",
       "\n",
       "    .dataframe tbody tr th {\n",
       "        vertical-align: top;\n",
       "    }\n",
       "\n",
       "    .dataframe thead th {\n",
       "        text-align: right;\n",
       "    }\n",
       "</style>\n",
       "<table border=\"1\" class=\"dataframe\">\n",
       "  <thead>\n",
       "    <tr style=\"text-align: right;\">\n",
       "      <th></th>\n",
       "      <th>reg_ts</th>\n",
       "      <th>uid</th>\n",
       "    </tr>\n",
       "  </thead>\n",
       "  <tbody>\n",
       "    <tr>\n",
       "      <th>0</th>\n",
       "      <td>911382223</td>\n",
       "      <td>1</td>\n",
       "    </tr>\n",
       "    <tr>\n",
       "      <th>1</th>\n",
       "      <td>932683089</td>\n",
       "      <td>2</td>\n",
       "    </tr>\n",
       "    <tr>\n",
       "      <th>2</th>\n",
       "      <td>947802447</td>\n",
       "      <td>3</td>\n",
       "    </tr>\n",
       "    <tr>\n",
       "      <th>3</th>\n",
       "      <td>959523541</td>\n",
       "      <td>4</td>\n",
       "    </tr>\n",
       "    <tr>\n",
       "      <th>4</th>\n",
       "      <td>969103313</td>\n",
       "      <td>5</td>\n",
       "    </tr>\n",
       "  </tbody>\n",
       "</table>\n",
       "</div>"
      ],
      "text/plain": [
       "      reg_ts  uid\n",
       "0  911382223    1\n",
       "1  932683089    2\n",
       "2  947802447    3\n",
       "3  959523541    4\n",
       "4  969103313    5"
      ]
     },
     "execution_count": 6,
     "metadata": {},
     "output_type": "execute_result"
    }
   ],
   "source": [
    "# данные о времени регистрации\n",
    "# визуально как выглядит таблица\n",
    "reg.head(5)"
   ]
  },
  {
   "cell_type": "code",
   "execution_count": 7,
   "metadata": {},
   "outputs": [
    {
     "name": "stdout",
     "output_type": "stream",
     "text": [
      "В датасете: \n",
      "    1,000,000 строк\n",
      "    2 колонки\n"
     ]
    }
   ],
   "source": [
    "rows, columns = reg.shape\n",
    "print(f'В датасете: ')\n",
    "print(f'    {rows:,} строк')\n",
    "print(f'    {columns} колонки')"
   ]
  },
  {
   "cell_type": "code",
   "execution_count": 8,
   "metadata": {},
   "outputs": [
    {
     "data": {
      "text/plain": [
       "reg_ts    0\n",
       "uid       0\n",
       "dtype: int64"
      ]
     },
     "execution_count": 8,
     "metadata": {},
     "output_type": "execute_result"
    }
   ],
   "source": [
    "# ура нету пропусков\n",
    "reg.isna().sum()"
   ]
  },
  {
   "cell_type": "markdown",
   "metadata": {},
   "source": [
    "<h3>Данные о времени захода пользователей в игру</h3>"
   ]
  },
  {
   "cell_type": "code",
   "execution_count": 9,
   "metadata": {},
   "outputs": [
    {
     "data": {
      "text/html": [
       "<div>\n",
       "<style scoped>\n",
       "    .dataframe tbody tr th:only-of-type {\n",
       "        vertical-align: middle;\n",
       "    }\n",
       "\n",
       "    .dataframe tbody tr th {\n",
       "        vertical-align: top;\n",
       "    }\n",
       "\n",
       "    .dataframe thead th {\n",
       "        text-align: right;\n",
       "    }\n",
       "</style>\n",
       "<table border=\"1\" class=\"dataframe\">\n",
       "  <thead>\n",
       "    <tr style=\"text-align: right;\">\n",
       "      <th></th>\n",
       "      <th>auth_ts</th>\n",
       "      <th>uid</th>\n",
       "    </tr>\n",
       "  </thead>\n",
       "  <tbody>\n",
       "    <tr>\n",
       "      <th>0</th>\n",
       "      <td>911382223</td>\n",
       "      <td>1</td>\n",
       "    </tr>\n",
       "    <tr>\n",
       "      <th>1</th>\n",
       "      <td>932683089</td>\n",
       "      <td>2</td>\n",
       "    </tr>\n",
       "    <tr>\n",
       "      <th>2</th>\n",
       "      <td>932921206</td>\n",
       "      <td>2</td>\n",
       "    </tr>\n",
       "    <tr>\n",
       "      <th>3</th>\n",
       "      <td>933393015</td>\n",
       "      <td>2</td>\n",
       "    </tr>\n",
       "    <tr>\n",
       "      <th>4</th>\n",
       "      <td>933875379</td>\n",
       "      <td>2</td>\n",
       "    </tr>\n",
       "  </tbody>\n",
       "</table>\n",
       "</div>"
      ],
      "text/plain": [
       "     auth_ts  uid\n",
       "0  911382223    1\n",
       "1  932683089    2\n",
       "2  932921206    2\n",
       "3  933393015    2\n",
       "4  933875379    2"
      ]
     },
     "execution_count": 9,
     "metadata": {},
     "output_type": "execute_result"
    }
   ],
   "source": [
    "# данные о времени захода пользователей в игру\n",
    "auth.head(5)"
   ]
  },
  {
   "cell_type": "code",
   "execution_count": 10,
   "metadata": {},
   "outputs": [
    {
     "name": "stdout",
     "output_type": "stream",
     "text": [
      "В датасете: \n",
      "    9,601,013 строк\n",
      "    2 колонки\n"
     ]
    }
   ],
   "source": [
    "rows, columns = auth.shape\n",
    "print(f'В датасете: ')\n",
    "print(f'    {rows:,} строк')\n",
    "print(f'    {columns} колонки')"
   ]
  },
  {
   "cell_type": "code",
   "execution_count": 11,
   "metadata": {},
   "outputs": [
    {
     "data": {
      "text/plain": [
       "auth_ts    0\n",
       "uid        0\n",
       "dtype: int64"
      ]
     },
     "execution_count": 11,
     "metadata": {},
     "output_type": "execute_result"
    }
   ],
   "source": [
    "# ура нету пропусков 2\n",
    "auth.isna().sum()"
   ]
  },
  {
   "cell_type": "code",
   "execution_count": 12,
   "metadata": {},
   "outputs": [
    {
     "data": {
      "text/html": [
       "<div>\n",
       "<style scoped>\n",
       "    .dataframe tbody tr th:only-of-type {\n",
       "        vertical-align: middle;\n",
       "    }\n",
       "\n",
       "    .dataframe tbody tr th {\n",
       "        vertical-align: top;\n",
       "    }\n",
       "\n",
       "    .dataframe thead th {\n",
       "        text-align: right;\n",
       "    }\n",
       "</style>\n",
       "<table border=\"1\" class=\"dataframe\">\n",
       "  <thead>\n",
       "    <tr style=\"text-align: right;\">\n",
       "      <th></th>\n",
       "      <th>uid</th>\n",
       "      <th>auth_ts</th>\n",
       "    </tr>\n",
       "  </thead>\n",
       "  <tbody>\n",
       "    <tr>\n",
       "      <th>count</th>\n",
       "      <td>1.000000e+06</td>\n",
       "      <td>1000000.000000</td>\n",
       "    </tr>\n",
       "    <tr>\n",
       "      <th>mean</th>\n",
       "      <td>5.552354e+05</td>\n",
       "      <td>9.601013</td>\n",
       "    </tr>\n",
       "    <tr>\n",
       "      <th>std</th>\n",
       "      <td>3.206011e+05</td>\n",
       "      <td>47.069539</td>\n",
       "    </tr>\n",
       "    <tr>\n",
       "      <th>min</th>\n",
       "      <td>1.000000e+00</td>\n",
       "      <td>1.000000</td>\n",
       "    </tr>\n",
       "    <tr>\n",
       "      <th>25%</th>\n",
       "      <td>2.776438e+05</td>\n",
       "      <td>1.000000</td>\n",
       "    </tr>\n",
       "    <tr>\n",
       "      <th>50%</th>\n",
       "      <td>5.550455e+05</td>\n",
       "      <td>1.000000</td>\n",
       "    </tr>\n",
       "    <tr>\n",
       "      <th>75%</th>\n",
       "      <td>8.329712e+05</td>\n",
       "      <td>1.000000</td>\n",
       "    </tr>\n",
       "    <tr>\n",
       "      <th>max</th>\n",
       "      <td>1.110622e+06</td>\n",
       "      <td>1929.000000</td>\n",
       "    </tr>\n",
       "  </tbody>\n",
       "</table>\n",
       "</div>"
      ],
      "text/plain": [
       "                uid         auth_ts\n",
       "count  1.000000e+06  1000000.000000\n",
       "mean   5.552354e+05        9.601013\n",
       "std    3.206011e+05       47.069539\n",
       "min    1.000000e+00        1.000000\n",
       "25%    2.776438e+05        1.000000\n",
       "50%    5.550455e+05        1.000000\n",
       "75%    8.329712e+05        1.000000\n",
       "max    1.110622e+06     1929.000000"
      ]
     },
     "execution_count": 12,
     "metadata": {},
     "output_type": "execute_result"
    }
   ],
   "source": [
    "auth.groupby('uid', as_index=False).agg({'auth_ts':'count'}).describe()"
   ]
  },
  {
   "cell_type": "markdown",
   "metadata": {},
   "source": [
    "# Exploratory Data Analysis"
   ]
  },
  {
   "cell_type": "markdown",
   "metadata": {},
   "source": [
    "<strong>Uid</strong> общая колонка для обоих датасэтов, это игроки-пользователи. Поэтому хотелось бы посмотреть насколько они совпадают"
   ]
  },
  {
   "cell_type": "code",
   "execution_count": 13,
   "metadata": {},
   "outputs": [
    {
     "name": "stdout",
     "output_type": "stream",
     "text": [
      "Количество уникальных игроков в 1-ом датасете = 1,000,000\n",
      "Количество уникальных игроков в 2-ом датасете = 1,000,000\n",
      "Они совпадают? True\n"
     ]
    }
   ],
   "source": [
    "unique_users_1 = reg.uid.unique()\n",
    "unique_users_2 = auth.uid.unique()\n",
    "print(f'Количество уникальных игроков в 1-ом датасете = {len(unique_users_1):,}') \n",
    "print(f'Количество уникальных игроков в 2-ом датасете = {len(unique_users_2):,}')\n",
    "print(f'Они совпадают? {set(unique_users_1) == set(unique_users_2)}')\n"
   ]
  },
  {
   "cell_type": "code",
   "execution_count": null,
   "metadata": {},
   "outputs": [],
   "source": []
  },
  {
   "cell_type": "markdown",
   "metadata": {},
   "source": [
    "# Задача №1: посчитать retention игроков (по дням от даты регистрации игрока)"
   ]
  },
  {
   "cell_type": "markdown",
   "metadata": {},
   "source": [
    "<strong>Retention Rate</strong> — коэффициент удержания клиентов. Он показывает, сколько пользователей возвращается в мобильное приложение. \n",
    "1. Note: Разные специалисты считают коэффициент по-разному в зависимости от информации, которую хотят получить.\\\n",
    "    1.1 В нашем случае по дням от даты регистрации игрока"
   ]
  },
  {
   "cell_type": "markdown",
   "metadata": {},
   "source": [
    "Икея такая : Retention вычисляем как \n",
    "   - Периодичность: дни\n",
    "   - Сравнение: Дата Аутентификации к Дате Регистрации   "
   ]
  },
  {
   "cell_type": "code",
   "execution_count": 16,
   "metadata": {},
   "outputs": [],
   "source": [
    "# Retention Rate function \n",
    "\n",
    "def retention(date_start='1998-11-18',  # дата откуда считаем Retention - дата регистрации\n",
    "              date_to='2020-09-23',     # дата докуда считаем Retention - дата регистрации\n",
    "              num_of_days_you_need = 7, # сколько дней отобразить в output таблице, по умолчанию 7 дней\n",
    "              reg=reg,                  # сами таблицы\n",
    "              auth=auth):                \n",
    "    \n",
    "    # to convert to days both Dataframes\n",
    "    if reg['reg_ts'].dtypes == 'int64':\n",
    "        reg['reg_ts'] = pd.to_datetime(reg['reg_ts'], unit='s').dt.to_period('D')\n",
    "    elif auth['auth_ts'].dtypes == 'int64':\n",
    "        auth['auth_ts'] = pd.to_datetime(auth['auth_ts'], unit='s').dt.to_period('D')\n",
    "    \n",
    "    # filter from and to the dates you need\n",
    "    reg = reg[(reg['reg_ts'] >= date_start) & (reg['reg_ts'] <= date_to)]\n",
    "    \n",
    "    # merge tables for a common df\n",
    "    ret_curve = auth.merge(reg, how='inner', on='uid')\n",
    "    \n",
    "    # build cohorts\n",
    "    cohorts = ret_curve.groupby(['reg_ts', 'auth_ts'], as_index=False).agg(user_count=('uid', 'nunique'))\n",
    "    # days of retention\n",
    "    cohorts['Day'] = (cohorts.auth_ts - cohorts.reg_ts).apply(attrgetter('n'))\n",
    "    # filter for how many days to display\n",
    "    cohorts_filter = cohorts.query('Day < @num_of_days_you_need + 1')\n",
    "    # pivot table of cohorts\n",
    "    cohorts_pivot = cohorts_filter.pivot_table(index='reg_ts', columns='Day', values='user_count')\\\n",
    "                    .rename_axis(['Day of Registration:\\nYY-MM-DD'])\\\n",
    "                    .rename(columns=lambda x: f'Day {x}')\n",
    "    \n",
    "    # ограничения на размер когорты и считаем retention\n",
    "    cohort_size = cohorts_pivot.iloc[:, 0]\n",
    "    retention_rate = cohorts_pivot.divide(cohort_size, axis=0)\n",
    "    retention_rate = retention_rate.iloc[:, 0:(30)]\n",
    "    # Формат отображения значений\n",
    "    retention_rate_formatted = retention_rate.applymap(lambda x: '{:.2%}'.format(x))\n",
    "       \n",
    "    return retention_rate_formatted\n"
   ]
  },
  {
   "cell_type": "code",
   "execution_count": 17,
   "metadata": {},
   "outputs": [
    {
     "data": {
      "text/html": [
       "<div>\n",
       "<style scoped>\n",
       "    .dataframe tbody tr th:only-of-type {\n",
       "        vertical-align: middle;\n",
       "    }\n",
       "\n",
       "    .dataframe tbody tr th {\n",
       "        vertical-align: top;\n",
       "    }\n",
       "\n",
       "    .dataframe thead th {\n",
       "        text-align: right;\n",
       "    }\n",
       "</style>\n",
       "<table border=\"1\" class=\"dataframe\">\n",
       "  <thead>\n",
       "    <tr style=\"text-align: right;\">\n",
       "      <th>Day</th>\n",
       "      <th>Day 0</th>\n",
       "      <th>Day 1</th>\n",
       "      <th>Day 2</th>\n",
       "      <th>Day 3</th>\n",
       "      <th>Day 4</th>\n",
       "      <th>Day 5</th>\n",
       "      <th>Day 6</th>\n",
       "      <th>Day 7</th>\n",
       "    </tr>\n",
       "    <tr>\n",
       "      <th>Day of Registration:\n",
       "YY-MM-DD</th>\n",
       "      <th></th>\n",
       "      <th></th>\n",
       "      <th></th>\n",
       "      <th></th>\n",
       "      <th></th>\n",
       "      <th></th>\n",
       "      <th></th>\n",
       "      <th></th>\n",
       "    </tr>\n",
       "  </thead>\n",
       "  <tbody>\n",
       "    <tr>\n",
       "      <th>2020-01-01</th>\n",
       "      <td>100.00%</td>\n",
       "      <td>2.64%</td>\n",
       "      <td>4.52%</td>\n",
       "      <td>3.39%</td>\n",
       "      <td>5.66%</td>\n",
       "      <td>5.84%</td>\n",
       "      <td>7.54%</td>\n",
       "      <td>5.00%</td>\n",
       "    </tr>\n",
       "    <tr>\n",
       "      <th>2020-01-02</th>\n",
       "      <td>100.00%</td>\n",
       "      <td>2.35%</td>\n",
       "      <td>4.52%</td>\n",
       "      <td>5.17%</td>\n",
       "      <td>4.80%</td>\n",
       "      <td>5.83%</td>\n",
       "      <td>7.71%</td>\n",
       "      <td>5.93%</td>\n",
       "    </tr>\n",
       "    <tr>\n",
       "      <th>2020-01-03</th>\n",
       "      <td>100.00%</td>\n",
       "      <td>2.35%</td>\n",
       "      <td>3.38%</td>\n",
       "      <td>4.41%</td>\n",
       "      <td>4.51%</td>\n",
       "      <td>6.85%</td>\n",
       "      <td>7.51%</td>\n",
       "      <td>5.45%</td>\n",
       "    </tr>\n",
       "    <tr>\n",
       "      <th>2020-01-04</th>\n",
       "      <td>100.00%</td>\n",
       "      <td>1.50%</td>\n",
       "      <td>4.50%</td>\n",
       "      <td>5.06%</td>\n",
       "      <td>5.34%</td>\n",
       "      <td>5.72%</td>\n",
       "      <td>7.03%</td>\n",
       "      <td>5.44%</td>\n",
       "    </tr>\n",
       "    <tr>\n",
       "      <th>2020-01-05</th>\n",
       "      <td>100.00%</td>\n",
       "      <td>1.96%</td>\n",
       "      <td>4.49%</td>\n",
       "      <td>4.58%</td>\n",
       "      <td>4.40%</td>\n",
       "      <td>4.77%</td>\n",
       "      <td>7.86%</td>\n",
       "      <td>5.24%</td>\n",
       "    </tr>\n",
       "    <tr>\n",
       "      <th>2020-01-06</th>\n",
       "      <td>100.00%</td>\n",
       "      <td>2.90%</td>\n",
       "      <td>4.49%</td>\n",
       "      <td>4.95%</td>\n",
       "      <td>3.83%</td>\n",
       "      <td>4.67%</td>\n",
       "      <td>6.64%</td>\n",
       "      <td>5.89%</td>\n",
       "    </tr>\n",
       "    <tr>\n",
       "      <th>2020-01-07</th>\n",
       "      <td>100.00%</td>\n",
       "      <td>1.87%</td>\n",
       "      <td>4.85%</td>\n",
       "      <td>4.38%</td>\n",
       "      <td>6.44%</td>\n",
       "      <td>5.04%</td>\n",
       "      <td>8.49%</td>\n",
       "      <td>5.13%</td>\n",
       "    </tr>\n",
       "  </tbody>\n",
       "</table>\n",
       "</div>"
      ],
      "text/plain": [
       "Day                               Day 0  Day 1  Day 2  Day 3  Day 4  Day 5  \\\n",
       "Day of Registration:\\nYY-MM-DD                                               \n",
       "2020-01-01                      100.00%  2.64%  4.52%  3.39%  5.66%  5.84%   \n",
       "2020-01-02                      100.00%  2.35%  4.52%  5.17%  4.80%  5.83%   \n",
       "2020-01-03                      100.00%  2.35%  3.38%  4.41%  4.51%  6.85%   \n",
       "2020-01-04                      100.00%  1.50%  4.50%  5.06%  5.34%  5.72%   \n",
       "2020-01-05                      100.00%  1.96%  4.49%  4.58%  4.40%  4.77%   \n",
       "2020-01-06                      100.00%  2.90%  4.49%  4.95%  3.83%  4.67%   \n",
       "2020-01-07                      100.00%  1.87%  4.85%  4.38%  6.44%  5.04%   \n",
       "\n",
       "Day                             Day 6  Day 7  \n",
       "Day of Registration:\\nYY-MM-DD                \n",
       "2020-01-01                      7.54%  5.00%  \n",
       "2020-01-02                      7.71%  5.93%  \n",
       "2020-01-03                      7.51%  5.45%  \n",
       "2020-01-04                      7.03%  5.44%  \n",
       "2020-01-05                      7.86%  5.24%  \n",
       "2020-01-06                      6.64%  5.89%  \n",
       "2020-01-07                      8.49%  5.13%  "
      ]
     },
     "execution_count": 17,
     "metadata": {},
     "output_type": "execute_result"
    }
   ],
   "source": [
    "# 1-й аргумент: Вы можете выбрать начальную дату регистрации (точка отсчета)\n",
    "# 2-й аргумент: Вы можете выбрать конечную дату регистрации (точка конца)\n",
    "# Даты нужно подставить в формате YY-MM-DD\n",
    "\n",
    "# 3-й аргумент: сколько дней отобразить в графике от даты регистрации (необзяательно, по умолчанию 7)\n",
    "retention('2020-01-01', '2020-01-07')"
   ]
  },
  {
   "cell_type": "code",
   "execution_count": null,
   "metadata": {},
   "outputs": [],
   "source": []
  },
  {
   "cell_type": "markdown",
   "metadata": {},
   "source": [
    "<h1> Задача №2: A/B тест</h1>\n",
    "Имеются результаты A/B теста, в котором двум группам пользователей предлагались различные наборы акционных предложений.\n",
    "\n",
    "Известно, что ARPU в тестовой группе выше на 5%, чем в контрольной. \\\n",
    "При этом в контрольной группе 1928 игроков из 202103 оказались платящими, а в тестовой – 1805 из 202667.\n",
    "\n",
    "# Какой набор предложений можно считать лучшим? Какие метрики стоит проанализировать для принятия правильного решения и как?"
   ]
  },
  {
   "cell_type": "code",
   "execution_count": null,
   "metadata": {},
   "outputs": [],
   "source": [
    "from urllib.parse import urlencode\n",
    "import requests"
   ]
  },
  {
   "cell_type": "code",
   "execution_count": null,
   "metadata": {},
   "outputs": [],
   "source": [
    "base_url = 'https://cloud-api.yandex.net/v1/disk/public/resources/download?'\n",
    "public_key = 'https://disk.yandex.ru/d/SOkIsD5A8xlI7Q' \n",
    "final_url = base_url + urlencode(dict(public_key=public_key))\n",
    "response = requests.get(final_url)\n",
    "download_url = response.json()['href']\n",
    "download_response = requests.get(download_url)"
   ]
  },
  {
   "cell_type": "code",
   "execution_count": null,
   "metadata": {},
   "outputs": [],
   "source": [
    "ab = pd.read_csv(download_url, sep = ';')"
   ]
  },
  {
   "cell_type": "code",
   "execution_count": null,
   "metadata": {},
   "outputs": [],
   "source": [
    "ab.head()"
   ]
  },
  {
   "cell_type": "code",
   "execution_count": null,
   "metadata": {},
   "outputs": [],
   "source": [
    "rows, columns = ab.shape\n",
    "print(f'В датасете: ')\n",
    "print(f'    {rows:,} строк')\n",
    "print(f'    {columns} колонки')\n",
    "print(f'     ')\n",
    "\n",
    "print(f'В таблице {ab.user_id.nunique()} уникальных юзеров')\n",
    "print(f'В таблице {ab[\"user_id\"].duplicated().sum()} дупликатов')\n",
    "\n"
   ]
  },
  {
   "cell_type": "code",
   "execution_count": null,
   "metadata": {},
   "outputs": [],
   "source": [
    "ab.revenue.info()"
   ]
  },
  {
   "cell_type": "code",
   "execution_count": null,
   "metadata": {},
   "outputs": [],
   "source": [
    "ab.groupby('testgroup').size()"
   ]
  },
  {
   "cell_type": "markdown",
   "metadata": {},
   "source": [
    "<h3>Инфо о группах</h3>\n",
    "\n",
    "- <h1>Группа а - контрольная:</h1> \\\n",
    "         - 1,928 игроков из 202,103 оказались платящими\n",
    "            \n",
    "            \n",
    "- <h1>Группа b - тестовая:</h1> \\\n",
    "        - 1,805 из 202,667 оказались платящими\\\n",
    "        - ARPU в тестовой группе выше на 5%\n",
    "\n",
    "<strong>ARPU</strong> - Average revenue per user \\\n",
    "Average Revenue Per User = весь доход / количество пользователей за период\n",
    "\n"
   ]
  },
  {
   "cell_type": "code",
   "execution_count": null,
   "metadata": {},
   "outputs": [],
   "source": [
    "# доход общий\n",
    "total_revenue = ab.revenue.sum()\n",
    "print(f'Общий доход {total_revenue:,}')"
   ]
  },
  {
   "cell_type": "code",
   "execution_count": null,
   "metadata": {},
   "outputs": [],
   "source": [
    "# доход Группа A\n",
    "a_revenue = ab[ab['testgroup'] == 'a'].revenue.sum()\n",
    "print(f'Доход с группы А: {a_revenue:,}')"
   ]
  },
  {
   "cell_type": "code",
   "execution_count": null,
   "metadata": {},
   "outputs": [],
   "source": [
    "# доход Группа B\n",
    "b_revenue = ab[ab['testgroup'] == 'b'].revenue.sum()\n",
    "print(f'Доход с группы B: {b_revenue:,}')"
   ]
  },
  {
   "cell_type": "code",
   "execution_count": null,
   "metadata": {},
   "outputs": [],
   "source": []
  },
  {
   "cell_type": "code",
   "execution_count": null,
   "metadata": {},
   "outputs": [],
   "source": [
    "control_a = ab[ab['testgroup'] == 'a']\n",
    "test_b = ab[ab['testgroup'] == 'b']"
   ]
  },
  {
   "cell_type": "code",
   "execution_count": null,
   "metadata": {},
   "outputs": [],
   "source": [
    "ARPU_a = len(ab[ab['testgroup'] == 'a']) / (ab[ab['testgroup'] == 'a'].revenue.sum())\n",
    "ARPU_b = len(ab[ab['testgroup'] == 'b']) / (ab[ab['testgroup'] == 'b'].revenue.sum())\n",
    "\n",
    "print(f'ARPU группы А: {round(ARPU_a, 3)}')\n",
    "print(f'ARPU группы B: {round(ARPU_b, 3)}')"
   ]
  },
  {
   "cell_type": "code",
   "execution_count": null,
   "metadata": {},
   "outputs": [],
   "source": [
    "#  ARPU в тестовой группе ДЕЙСТВИТЕЛЬНО выше на 5%\n",
    "round(ARPU_b / ARPU_a * 100, 2)"
   ]
  },
  {
   "cell_type": "code",
   "execution_count": null,
   "metadata": {},
   "outputs": [],
   "source": [
    "# сколько плятщих 1,928\n",
    "control_a.query('revenue != 0').shape"
   ]
  },
  {
   "cell_type": "code",
   "execution_count": null,
   "metadata": {},
   "outputs": [],
   "source": [
    "# сколько плятщих 1,805\n",
    "test_b.query('revenue != 0').shape"
   ]
  },
  {
   "cell_type": "code",
   "execution_count": null,
   "metadata": {},
   "outputs": [],
   "source": []
  },
  {
   "cell_type": "markdown",
   "metadata": {},
   "source": [
    "<h3>Какой набор предложений можно считать лучшим? Какие метрики стоит проанализировать для принятия правильного решения и как?\n",
    "</h3>\n"
   ]
  },
  {
   "cell_type": "markdown",
   "metadata": {},
   "source": [
    "<h3>1. ARPU (Средний доход на пользователя):</h3>\n",
    "\n",
    "Это метрика, которая уже была указана, и она выше на 5% в тестовой группе."
   ]
  },
  {
   "cell_type": "code",
   "execution_count": null,
   "metadata": {},
   "outputs": [],
   "source": [
    "#  ARPU в тестовой группе ДЕЙСТВИТЕЛЬНО выше на 5%\n",
    "round(ARPU_b / ARPU_a * 100, 2)"
   ]
  },
  {
   "cell_type": "markdown",
   "metadata": {},
   "source": [
    "<h3>2. Конверсия (Conversion Rate):</h3>\n",
    "\n",
    "Процент пользователей, которые совершают покупку в каждой группе."
   ]
  },
  {
   "cell_type": "code",
   "execution_count": null,
   "metadata": {},
   "outputs": [],
   "source": [
    "control_cr = int(control.query('revenue != 0').agg({'user_id':'count'})) / int(control.agg({'user_id':'count'}))"
   ]
  },
  {
   "cell_type": "code",
   "execution_count": null,
   "metadata": {},
   "outputs": [],
   "source": [
    "test_cr = int(test.query('revenue != 0').agg({'user_id':'count'})) / int(test.agg({'user_id':'count'}))"
   ]
  },
  {
   "cell_type": "code",
   "execution_count": null,
   "metadata": {},
   "outputs": [],
   "source": [
    "print(f\"Conversion Rate for Control group А = {control_cr:%}\")\n",
    "print(f\"Conversion Rate for Test group В = {test_cr:%}\")\n",
    "# Процент пользователей, которые совершают покупку выше в Группе А (контрольной)"
   ]
  },
  {
   "cell_type": "markdown",
   "metadata": {},
   "source": [
    "<h3>Средний доход на платящего пользователя (ARPPU - Average Revenue Per Paying User):</h3>\n",
    "\n",
    "Эта метрика показывает, сколько в среднем приносит один платящий пользователь.\n"
   ]
  },
  {
   "cell_type": "code",
   "execution_count": null,
   "metadata": {},
   "outputs": [],
   "source": [
    "arppu_control = int(control.query('revenue != 0').agg({'revenue':'sum'})) / int(control.query('revenue != 0').agg({'user_id':'count'}))"
   ]
  },
  {
   "cell_type": "code",
   "execution_count": null,
   "metadata": {},
   "outputs": [],
   "source": [
    "arppu_test = int(test.query('revenue != 0').agg({'revenue':'sum'})) / int(test.query('revenue != 0').agg({'user_id':'count'}))"
   ]
  },
  {
   "cell_type": "code",
   "execution_count": null,
   "metadata": {},
   "outputs": [],
   "source": [
    "print(f\"ARPPU for Control group = {round(arppu_control, 2)}\")\n",
    "print(f\"ARPPU for Test group = {round(arppu_test, 2)}\")\n",
    "# ARPPU выше в Тестовой группе (В)"
   ]
  },
  {
   "cell_type": "markdown",
   "metadata": {},
   "source": [
    "<h3>P-value:</h3>\n",
    "\n",
    "Статистическая значимость различий между группами."
   ]
  },
  {
   "cell_type": "code",
   "execution_count": null,
   "metadata": {},
   "outputs": [],
   "source": [
    "test_pay = test_b.query('revenue != 0')\n",
    "control_pay = control_a.query('revenue != 0')"
   ]
  },
  {
   "cell_type": "code",
   "execution_count": null,
   "metadata": {},
   "outputs": [],
   "source": [
    "# посмотрим по числам, группа A\n",
    "control_pay.revenue.describe()"
   ]
  },
  {
   "cell_type": "code",
   "execution_count": null,
   "metadata": {},
   "outputs": [],
   "source": [
    "# посмотрим по числам, группа В\n",
    "test_pay.revenue.describe()"
   ]
  },
  {
   "cell_type": "markdown",
   "metadata": {},
   "source": [
    "Размер выборки примерно одинаков 1928 к 1805\\\n",
    "Средние близки 2663 к 3003\\\n",
    "Стандартное отклонение СИЛЬНО различается 9049 к 572\\\n",
    "Квартили сильно разнятся\\\n",
    "В группе А ОГРОМНЫЙ выброс в максимуме."
   ]
  },
  {
   "cell_type": "code",
   "execution_count": null,
   "metadata": {},
   "outputs": [],
   "source": [
    "# визуально\n",
    "sns.set_style(\"whitegrid\")\n",
    "plt.figure(figsize=(10, 6))"
   ]
  },
  {
   "cell_type": "code",
   "execution_count": null,
   "metadata": {},
   "outputs": [],
   "source": [
    "# Create the boxplot with customizations\n",
    "ax = sns.boxplot(\n",
    "    data=ab.query('revenue != 0'),\n",
    "    x='testgroup',\n",
    "    y='revenue',\n",
    "    palette='Set2'  # Choose a color palette\n",
    ")\n",
    "\n",
    "# Add titles and labels\n",
    "ax.set_title('Revenue Distribution by Groups BoxPlots', fontsize=16)\n",
    "ax.set_xlabel('Test Group', fontsize=14)\n",
    "ax.set_ylabel('Revenue', fontsize=14)\n",
    "\n",
    "# Customize the ticks\n",
    "ax.tick_params(axis='x', labelsize=12)\n",
    "ax.tick_params(axis='y', labelsize=12)\n",
    "\n",
    "# Optionally, add a horizontal grid to improve readability\n",
    "ax.yaxis.grid(True, linestyle='--', which='both', color='grey', alpha=0.7)\n",
    "\n",
    "# Remove the top and right spines for a cleaner look\n",
    "sns.despine(trim=True)\n",
    "\n",
    "# Show the plot\n",
    "plt.show()"
   ]
  },
  {
   "cell_type": "code",
   "execution_count": null,
   "metadata": {},
   "outputs": [],
   "source": [
    "# группа А\n",
    "control_pay.revenue.describe()"
   ]
  },
  {
   "cell_type": "code",
   "execution_count": null,
   "metadata": {},
   "outputs": [],
   "source": [
    "from scipy.stats import mannwhitneyu"
   ]
  },
  {
   "cell_type": "code",
   "execution_count": null,
   "metadata": {},
   "outputs": [],
   "source": [
    "test_pay_revenue = test_pay.revenue\n",
    "control_pay_revenue = control_pay.revenue"
   ]
  },
  {
   "cell_type": "markdown",
   "metadata": {},
   "source": [
    "У нас есть огромные выбросы - поэтому лучше будет сравнить выборки тестом Манна-Уитни."
   ]
  },
  {
   "cell_type": "code",
   "execution_count": null,
   "metadata": {},
   "outputs": [],
   "source": [
    "stat, p_value = mannwhitneyu(test_pay_revenue, control_pay_revenue, alternative='two-sided')\n",
    "\n",
    "print(f'Statistics: {stat}, p-value: {p_value}')"
   ]
  },
  {
   "cell_type": "markdown",
   "metadata": {},
   "source": [
    "P-value < 0.05, поэтому можно отвергать нулевую гипотезу о сходстве двух выборок. Однако мы это и визуально видим, что выборки сильно различаются - в особенности мешают выбросы в группе А.\\\n",
    "Посмотрим сколько выбросов вообще"
   ]
  },
  {
   "cell_type": "code",
   "execution_count": null,
   "metadata": {},
   "outputs": [],
   "source": [
    "# С доходом выше 35тыс (выбросы) у нас 123 юзера!\n",
    "control_a.query('revenue > 35000')"
   ]
  },
  {
   "cell_type": "code",
   "execution_count": null,
   "metadata": {},
   "outputs": [],
   "source": [
    "print(f' Получается доля юзеров заплативших более 35тыс составила = {(123 / 1928):%}')"
   ]
  },
  {
   "cell_type": "markdown",
   "metadata": {},
   "source": [
    "Случайность это или все дело в особенностях контрольной группы А и его набора акционных предложений - сказать сложно.\\\n",
    "Может быть у приложения есть доля юзеров готовых платить значительные суммы и они также случайно могли оказаться в группе В,\n",
    "а может быть это следствие акционных предложений тестировавшихся в группе А.\n",
    "\n",
    "<h2>Что мы можем сделать в таком случае? Что бы решить какой вариант лучше</h2>"
   ]
  },
  {
   "cell_type": "markdown",
   "metadata": {},
   "source": [
    "<h3>1. Мы можем УБРАТЬ выбросы</h3>"
   ]
  },
  {
   "cell_type": "code",
   "execution_count": null,
   "metadata": {},
   "outputs": [],
   "source": [
    "ab_no_outlier = ab.query('revenue != 0 and revenue < 35000')"
   ]
  },
  {
   "cell_type": "code",
   "execution_count": null,
   "metadata": {},
   "outputs": [],
   "source": [
    "ax = sns.boxplot(\n",
    "    data=ab_no_outlier,\n",
    "    x='testgroup',\n",
    "    y='revenue',\n",
    "    palette='Set2'  # Choose a color palette\n",
    ")\n",
    "\n",
    "# Add titles and labels\n",
    "ax.set_title('Revenue Distribution by Groups Boxplots without Outliers', fontsize=16)\n",
    "ax.set_xlabel('Test Group', fontsize=14)\n",
    "ax.set_ylabel('Revenue', fontsize=14)\n",
    "\n",
    "# Customize the ticks\n",
    "ax.tick_params(axis='x', labelsize=12)\n",
    "ax.tick_params(axis='y', labelsize=12)\n",
    "\n",
    "# Optionally, add a horizontal grid to improve readability\n",
    "ax.yaxis.grid(True, linestyle='--', which='both', color='grey', alpha=0.7)\n",
    "\n",
    "# Remove the top and right spines for a cleaner look\n",
    "sns.despine(trim=True)\n",
    "\n",
    "# Show the plot\n",
    "plt.show()"
   ]
  },
  {
   "cell_type": "markdown",
   "metadata": {},
   "source": [
    "И визуально видим что распределение доходов лучше в группе В.\\\n",
    "<strong>ЕСЛИ мы думаем что выбросы случайны и не зависят от акционных предложений группы.</strong>"
   ]
  },
  {
   "cell_type": "markdown",
   "metadata": {},
   "source": [
    "<h3>2. Мы можем сделать бутстрап, посмотрев на медианы</h3>\n",
    "Давайте все же условимся что выбросы - случайны."
   ]
  },
  {
   "cell_type": "code",
   "execution_count": null,
   "metadata": {},
   "outputs": [],
   "source": [
    "revenue_control_a = control_a.revenue\n",
    "revenue_test_b    = test_b.revenue"
   ]
  },
  {
   "cell_type": "code",
   "execution_count": null,
   "metadata": {},
   "outputs": [],
   "source": [
    "def bootstrap(data, num_iterations, statistic):\n",
    "    bootstrapped_stats = []\n",
    "    for _ in range(num_iterations):\n",
    "        sample = np.random.choice(data, size=len(data), replace=True)\n",
    "        bootstrapped_stats.append(statistic(sample))\n",
    "    return bootstrapped_stats"
   ]
  },
  {
   "cell_type": "code",
   "execution_count": null,
   "metadata": {},
   "outputs": [],
   "source": [
    "# Данные для бутстрапа\n",
    "control_data_no_outliers = control_a.query('revenue !=0 and revenue <= 35000').revenue.values\n",
    "control_data_outliers = control_a.query('revenue !=0').revenue.values\n",
    "\n",
    "test_data = test_b.query('revenue !=0').revenue.values\n",
    "\n",
    "#control_data = control_a.revenue.values\n",
    "#test_data    = test_b.revenue.values"
   ]
  },
  {
   "cell_type": "code",
   "execution_count": null,
   "metadata": {},
   "outputs": [],
   "source": [
    "# Количество итераций\n",
    "num_iterations = 1000"
   ]
  },
  {
   "cell_type": "code",
   "execution_count": null,
   "metadata": {},
   "outputs": [],
   "source": [
    "# Бутстрап для среднего значения\n",
    "control_bootstrap_means_no_outliers = bootstrap(control_data_no_outliers, num_iterations, np.mean)\n",
    "control_bootstrap_means_outliers = bootstrap(control_data_outliers, num_iterations, np.mean)\n",
    "test_bootstrap_means = bootstrap(test_data, num_iterations, np.mean)\n",
    "\n",
    "\n",
    "control_bootstrap_means = bootstrap(control_data, num_iterations, np.mean)"
   ]
  },
  {
   "cell_type": "code",
   "execution_count": null,
   "metadata": {},
   "outputs": [],
   "source": [
    "# Доверительные интервалы\n",
    "control_ci_no_outliers = np.percentile(control_bootstrap_means_no_outliers, [2.5, 97.5])\n",
    "control_ci_outliers = np.percentile(control_bootstrap_means_outliers, [2.5, 97.5])\n",
    "test_ci = np.percentile(test_bootstrap_means, [2.5, 97.5])"
   ]
  },
  {
   "cell_type": "code",
   "execution_count": null,
   "metadata": {},
   "outputs": [],
   "source": [
    "print(\"Control group mean Confidence Interval with outliers:\",    control_ci_outliers)\n",
    "print(\"Control group mean Confidence Interval without outliers:\", control_ci_no_outliers)\n",
    "print(\" \")\n",
    "print(\"Test group mean Confidence Interval:\", test_ci)"
   ]
  },
  {
   "cell_type": "markdown",
   "metadata": {},
   "source": [
    "<h2>Интерпретация результатов:</h2>\n",
    "Доверительные интервалы средних значений для контрольной и тестовой групп не перекрываются, это свидетельствует о статистически значимом различии.\n"
   ]
  },
  {
   "cell_type": "markdown",
   "metadata": {},
   "source": [
    "<h3>Если выбросы не являются случайными и являются следствием особенностей группы, то их игнорирование может привести к упущению важной информации. В этом случае необходимо тщательно рассмотреть, как включение выбросов повлияет на результаты анализа.\n",
    "</h3>\n"
   ]
  },
  {
   "cell_type": "markdown",
   "metadata": {},
   "source": [
    "# Итог: \n",
    "1. Если считать что выбросы - случайны. То однозначно следует выбрать группу В. Так как она показала повышение распределения доходов от пользователей.\n",
    "2. Если выбросы - не случайны. То следует провести другой тест который должен включать в тестовую группу пользователей которые платят очень много."
   ]
  }
 ],
 "metadata": {
  "kernelspec": {
   "display_name": "Python 3 (ipykernel)",
   "language": "python",
   "name": "python3"
  },
  "language_info": {
   "codemirror_mode": {
    "name": "ipython",
    "version": 3
   },
   "file_extension": ".py",
   "mimetype": "text/x-python",
   "name": "python",
   "nbconvert_exporter": "python",
   "pygments_lexer": "ipython3",
   "version": "3.11.5"
  }
 },
 "nbformat": 4,
 "nbformat_minor": 4
}
